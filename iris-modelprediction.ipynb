{
 "cells": [
  {
   "cell_type": "markdown",
   "id": "c93e4b50",
   "metadata": {
    "papermill": {
     "duration": 0.051298,
     "end_time": "2021-11-03T10:36:51.349054",
     "exception": false,
     "start_time": "2021-11-03T10:36:51.297756",
     "status": "completed"
    },
    "tags": []
   },
   "source": [
    "# **Iris Dataset: Simple Exploratory Data Analysis (EDA)**"
   ]
  },
  {
   "cell_type": "code",
   "execution_count": 1,
   "id": "947d19bb",
   "metadata": {
    "_cell_guid": "b1076dfc-b9ad-4769-8c92-a6c4dae69d19",
    "_uuid": "8f2839f25d086af736a60e9eeb907d3b93b6e0e5",
    "execution": {
     "iopub.execute_input": "2021-11-03T10:36:51.459922Z",
     "iopub.status.busy": "2021-11-03T10:36:51.459129Z",
     "iopub.status.idle": "2021-11-03T10:36:51.473573Z",
     "shell.execute_reply": "2021-11-03T10:36:51.474135Z",
     "shell.execute_reply.started": "2021-11-03T10:36:04.376201Z"
    },
    "papermill": {
     "duration": 0.079361,
     "end_time": "2021-11-03T10:36:51.474501",
     "exception": false,
     "start_time": "2021-11-03T10:36:51.395140",
     "status": "completed"
    },
    "tags": []
   },
   "outputs": [
    {
     "name": "stdout",
     "output_type": "stream",
     "text": [
      "/kaggle/input/iris/Iris.csv\n",
      "/kaggle/input/iris/database.sqlite\n"
     ]
    }
   ],
   "source": [
    "import pandas as pd # data processing, CSV file I/O (e.g. pd.read_csv)\n",
    "import os\n",
    "for dirname, _, filenames in os.walk('/kaggle/input'):\n",
    "    for filename in filenames:\n",
    "        print(os.path.join(dirname, filename))"
   ]
  },
  {
   "cell_type": "code",
   "execution_count": 2,
   "id": "00f2ca1e",
   "metadata": {
    "execution": {
     "iopub.execute_input": "2021-11-03T10:36:51.581237Z",
     "iopub.status.busy": "2021-11-03T10:36:51.580525Z",
     "iopub.status.idle": "2021-11-03T10:36:51.618303Z",
     "shell.execute_reply": "2021-11-03T10:36:51.617743Z",
     "shell.execute_reply.started": "2021-11-03T10:36:04.389421Z"
    },
    "papermill": {
     "duration": 0.094007,
     "end_time": "2021-11-03T10:36:51.618467",
     "exception": false,
     "start_time": "2021-11-03T10:36:51.524460",
     "status": "completed"
    },
    "tags": []
   },
   "outputs": [
    {
     "data": {
      "text/html": [
       "<div>\n",
       "<style scoped>\n",
       "    .dataframe tbody tr th:only-of-type {\n",
       "        vertical-align: middle;\n",
       "    }\n",
       "\n",
       "    .dataframe tbody tr th {\n",
       "        vertical-align: top;\n",
       "    }\n",
       "\n",
       "    .dataframe thead th {\n",
       "        text-align: right;\n",
       "    }\n",
       "</style>\n",
       "<table border=\"1\" class=\"dataframe\">\n",
       "  <thead>\n",
       "    <tr style=\"text-align: right;\">\n",
       "      <th></th>\n",
       "      <th>Id</th>\n",
       "      <th>SepalLengthCm</th>\n",
       "      <th>SepalWidthCm</th>\n",
       "      <th>PetalLengthCm</th>\n",
       "      <th>PetalWidthCm</th>\n",
       "      <th>Species</th>\n",
       "    </tr>\n",
       "  </thead>\n",
       "  <tbody>\n",
       "    <tr>\n",
       "      <th>0</th>\n",
       "      <td>1</td>\n",
       "      <td>5.1</td>\n",
       "      <td>3.5</td>\n",
       "      <td>1.4</td>\n",
       "      <td>0.2</td>\n",
       "      <td>Iris-setosa</td>\n",
       "    </tr>\n",
       "    <tr>\n",
       "      <th>1</th>\n",
       "      <td>2</td>\n",
       "      <td>4.9</td>\n",
       "      <td>3.0</td>\n",
       "      <td>1.4</td>\n",
       "      <td>0.2</td>\n",
       "      <td>Iris-setosa</td>\n",
       "    </tr>\n",
       "    <tr>\n",
       "      <th>2</th>\n",
       "      <td>3</td>\n",
       "      <td>4.7</td>\n",
       "      <td>3.2</td>\n",
       "      <td>1.3</td>\n",
       "      <td>0.2</td>\n",
       "      <td>Iris-setosa</td>\n",
       "    </tr>\n",
       "    <tr>\n",
       "      <th>3</th>\n",
       "      <td>4</td>\n",
       "      <td>4.6</td>\n",
       "      <td>3.1</td>\n",
       "      <td>1.5</td>\n",
       "      <td>0.2</td>\n",
       "      <td>Iris-setosa</td>\n",
       "    </tr>\n",
       "    <tr>\n",
       "      <th>4</th>\n",
       "      <td>5</td>\n",
       "      <td>5.0</td>\n",
       "      <td>3.6</td>\n",
       "      <td>1.4</td>\n",
       "      <td>0.2</td>\n",
       "      <td>Iris-setosa</td>\n",
       "    </tr>\n",
       "  </tbody>\n",
       "</table>\n",
       "</div>"
      ],
      "text/plain": [
       "   Id  SepalLengthCm  SepalWidthCm  PetalLengthCm  PetalWidthCm      Species\n",
       "0   1            5.1           3.5            1.4           0.2  Iris-setosa\n",
       "1   2            4.9           3.0            1.4           0.2  Iris-setosa\n",
       "2   3            4.7           3.2            1.3           0.2  Iris-setosa\n",
       "3   4            4.6           3.1            1.5           0.2  Iris-setosa\n",
       "4   5            5.0           3.6            1.4           0.2  Iris-setosa"
      ]
     },
     "execution_count": 2,
     "metadata": {},
     "output_type": "execute_result"
    }
   ],
   "source": [
    "data = pd.read_csv('../input/iris/Iris.csv')\n",
    "data.head()"
   ]
  },
  {
   "cell_type": "code",
   "execution_count": 3,
   "id": "2189921a",
   "metadata": {
    "execution": {
     "iopub.execute_input": "2021-11-03T10:36:51.741249Z",
     "iopub.status.busy": "2021-11-03T10:36:51.740074Z",
     "iopub.status.idle": "2021-11-03T10:36:51.747407Z",
     "shell.execute_reply": "2021-11-03T10:36:51.747912Z",
     "shell.execute_reply.started": "2021-11-03T10:36:04.418555Z"
    },
    "papermill": {
     "duration": 0.077402,
     "end_time": "2021-11-03T10:36:51.748114",
     "exception": false,
     "start_time": "2021-11-03T10:36:51.670712",
     "status": "completed"
    },
    "tags": []
   },
   "outputs": [
    {
     "data": {
      "text/html": [
       "<div>\n",
       "<style scoped>\n",
       "    .dataframe tbody tr th:only-of-type {\n",
       "        vertical-align: middle;\n",
       "    }\n",
       "\n",
       "    .dataframe tbody tr th {\n",
       "        vertical-align: top;\n",
       "    }\n",
       "\n",
       "    .dataframe thead th {\n",
       "        text-align: right;\n",
       "    }\n",
       "</style>\n",
       "<table border=\"1\" class=\"dataframe\">\n",
       "  <thead>\n",
       "    <tr style=\"text-align: right;\">\n",
       "      <th></th>\n",
       "      <th>SepalLengthCm</th>\n",
       "      <th>SepalWidthCm</th>\n",
       "      <th>PetalLengthCm</th>\n",
       "      <th>PetalWidthCm</th>\n",
       "      <th>Species</th>\n",
       "    </tr>\n",
       "  </thead>\n",
       "  <tbody>\n",
       "    <tr>\n",
       "      <th>0</th>\n",
       "      <td>5.1</td>\n",
       "      <td>3.5</td>\n",
       "      <td>1.4</td>\n",
       "      <td>0.2</td>\n",
       "      <td>Iris-setosa</td>\n",
       "    </tr>\n",
       "    <tr>\n",
       "      <th>1</th>\n",
       "      <td>4.9</td>\n",
       "      <td>3.0</td>\n",
       "      <td>1.4</td>\n",
       "      <td>0.2</td>\n",
       "      <td>Iris-setosa</td>\n",
       "    </tr>\n",
       "    <tr>\n",
       "      <th>2</th>\n",
       "      <td>4.7</td>\n",
       "      <td>3.2</td>\n",
       "      <td>1.3</td>\n",
       "      <td>0.2</td>\n",
       "      <td>Iris-setosa</td>\n",
       "    </tr>\n",
       "    <tr>\n",
       "      <th>3</th>\n",
       "      <td>4.6</td>\n",
       "      <td>3.1</td>\n",
       "      <td>1.5</td>\n",
       "      <td>0.2</td>\n",
       "      <td>Iris-setosa</td>\n",
       "    </tr>\n",
       "    <tr>\n",
       "      <th>4</th>\n",
       "      <td>5.0</td>\n",
       "      <td>3.6</td>\n",
       "      <td>1.4</td>\n",
       "      <td>0.2</td>\n",
       "      <td>Iris-setosa</td>\n",
       "    </tr>\n",
       "  </tbody>\n",
       "</table>\n",
       "</div>"
      ],
      "text/plain": [
       "   SepalLengthCm  SepalWidthCm  PetalLengthCm  PetalWidthCm      Species\n",
       "0            5.1           3.5            1.4           0.2  Iris-setosa\n",
       "1            4.9           3.0            1.4           0.2  Iris-setosa\n",
       "2            4.7           3.2            1.3           0.2  Iris-setosa\n",
       "3            4.6           3.1            1.5           0.2  Iris-setosa\n",
       "4            5.0           3.6            1.4           0.2  Iris-setosa"
      ]
     },
     "execution_count": 3,
     "metadata": {},
     "output_type": "execute_result"
    }
   ],
   "source": [
    "data.drop(columns='Id', inplace=True)\n",
    "data.head()"
   ]
  },
  {
   "cell_type": "code",
   "execution_count": 4,
   "id": "69146d78",
   "metadata": {
    "execution": {
     "iopub.execute_input": "2021-11-03T10:36:51.861043Z",
     "iopub.status.busy": "2021-11-03T10:36:51.855982Z",
     "iopub.status.idle": "2021-11-03T10:36:51.865223Z",
     "shell.execute_reply": "2021-11-03T10:36:51.865740Z",
     "shell.execute_reply.started": "2021-11-03T10:36:04.435240Z"
    },
    "papermill": {
     "duration": 0.064902,
     "end_time": "2021-11-03T10:36:51.865946",
     "exception": false,
     "start_time": "2021-11-03T10:36:51.801044",
     "status": "completed"
    },
    "tags": []
   },
   "outputs": [
    {
     "data": {
      "text/plain": [
       "(150, 5)"
      ]
     },
     "execution_count": 4,
     "metadata": {},
     "output_type": "execute_result"
    }
   ],
   "source": [
    "data.shape"
   ]
  },
  {
   "cell_type": "code",
   "execution_count": 5,
   "id": "d7aa0f92",
   "metadata": {
    "execution": {
     "iopub.execute_input": "2021-11-03T10:36:52.068233Z",
     "iopub.status.busy": "2021-11-03T10:36:52.066507Z",
     "iopub.status.idle": "2021-11-03T10:36:52.073455Z",
     "shell.execute_reply": "2021-11-03T10:36:52.074031Z",
     "shell.execute_reply.started": "2021-11-03T10:36:04.449152Z"
    },
    "papermill": {
     "duration": 0.066854,
     "end_time": "2021-11-03T10:36:52.074223",
     "exception": false,
     "start_time": "2021-11-03T10:36:52.007369",
     "status": "completed"
    },
    "tags": []
   },
   "outputs": [
    {
     "data": {
      "text/plain": [
       "Index(['SepalLengthCm', 'SepalWidthCm', 'PetalLengthCm', 'PetalWidthCm',\n",
       "       'Species'],\n",
       "      dtype='object')"
      ]
     },
     "execution_count": 5,
     "metadata": {},
     "output_type": "execute_result"
    }
   ],
   "source": [
    "data.columns"
   ]
  },
  {
   "cell_type": "code",
   "execution_count": 6,
   "id": "f1674e64",
   "metadata": {
    "execution": {
     "iopub.execute_input": "2021-11-03T10:36:52.194058Z",
     "iopub.status.busy": "2021-11-03T10:36:52.188552Z",
     "iopub.status.idle": "2021-11-03T10:36:52.197242Z",
     "shell.execute_reply": "2021-11-03T10:36:52.197819Z",
     "shell.execute_reply.started": "2021-11-03T10:36:04.462496Z"
    },
    "papermill": {
     "duration": 0.068674,
     "end_time": "2021-11-03T10:36:52.198016",
     "exception": false,
     "start_time": "2021-11-03T10:36:52.129342",
     "status": "completed"
    },
    "tags": []
   },
   "outputs": [
    {
     "data": {
      "text/plain": [
       "SepalLengthCm    float64\n",
       "SepalWidthCm     float64\n",
       "PetalLengthCm    float64\n",
       "PetalWidthCm     float64\n",
       "Species           object\n",
       "dtype: object"
      ]
     },
     "execution_count": 6,
     "metadata": {},
     "output_type": "execute_result"
    }
   ],
   "source": [
    "data.dtypes"
   ]
  },
  {
   "cell_type": "code",
   "execution_count": 7,
   "id": "c453b3a6",
   "metadata": {
    "execution": {
     "iopub.execute_input": "2021-11-03T10:36:52.313166Z",
     "iopub.status.busy": "2021-11-03T10:36:52.312497Z",
     "iopub.status.idle": "2021-11-03T10:36:52.333893Z",
     "shell.execute_reply": "2021-11-03T10:36:52.334872Z",
     "shell.execute_reply.started": "2021-11-03T10:36:04.477891Z"
    },
    "papermill": {
     "duration": 0.080586,
     "end_time": "2021-11-03T10:36:52.335139",
     "exception": false,
     "start_time": "2021-11-03T10:36:52.254553",
     "status": "completed"
    },
    "tags": []
   },
   "outputs": [
    {
     "name": "stdout",
     "output_type": "stream",
     "text": [
      "<class 'pandas.core.frame.DataFrame'>\n",
      "RangeIndex: 150 entries, 0 to 149\n",
      "Data columns (total 5 columns):\n",
      " #   Column         Non-Null Count  Dtype  \n",
      "---  ------         --------------  -----  \n",
      " 0   SepalLengthCm  150 non-null    float64\n",
      " 1   SepalWidthCm   150 non-null    float64\n",
      " 2   PetalLengthCm  150 non-null    float64\n",
      " 3   PetalWidthCm   150 non-null    float64\n",
      " 4   Species        150 non-null    object \n",
      "dtypes: float64(4), object(1)\n",
      "memory usage: 6.0+ KB\n"
     ]
    }
   ],
   "source": [
    "data.info()"
   ]
  },
  {
   "cell_type": "code",
   "execution_count": 8,
   "id": "f102d264",
   "metadata": {
    "execution": {
     "iopub.execute_input": "2021-11-03T10:36:52.446926Z",
     "iopub.status.busy": "2021-11-03T10:36:52.445817Z",
     "iopub.status.idle": "2021-11-03T10:36:52.452992Z",
     "shell.execute_reply": "2021-11-03T10:36:52.453538Z",
     "shell.execute_reply.started": "2021-11-03T10:36:04.501476Z"
    },
    "papermill": {
     "duration": 0.063482,
     "end_time": "2021-11-03T10:36:52.453735",
     "exception": false,
     "start_time": "2021-11-03T10:36:52.390253",
     "status": "completed"
    },
    "tags": []
   },
   "outputs": [
    {
     "data": {
      "text/plain": [
       "False"
      ]
     },
     "execution_count": 8,
     "metadata": {},
     "output_type": "execute_result"
    }
   ],
   "source": [
    "data.isna().values.any()"
   ]
  },
  {
   "cell_type": "code",
   "execution_count": 9,
   "id": "0ef0db82",
   "metadata": {
    "execution": {
     "iopub.execute_input": "2021-11-03T10:36:52.578621Z",
     "iopub.status.busy": "2021-11-03T10:36:52.563541Z",
     "iopub.status.idle": "2021-11-03T10:36:52.582468Z",
     "shell.execute_reply": "2021-11-03T10:36:52.582970Z",
     "shell.execute_reply.started": "2021-11-03T10:36:04.517325Z"
    },
    "papermill": {
     "duration": 0.075421,
     "end_time": "2021-11-03T10:36:52.583190",
     "exception": false,
     "start_time": "2021-11-03T10:36:52.507769",
     "status": "completed"
    },
    "tags": []
   },
   "outputs": [
    {
     "data": {
      "text/html": [
       "<div>\n",
       "<style scoped>\n",
       "    .dataframe tbody tr th:only-of-type {\n",
       "        vertical-align: middle;\n",
       "    }\n",
       "\n",
       "    .dataframe tbody tr th {\n",
       "        vertical-align: top;\n",
       "    }\n",
       "\n",
       "    .dataframe thead th {\n",
       "        text-align: right;\n",
       "    }\n",
       "</style>\n",
       "<table border=\"1\" class=\"dataframe\">\n",
       "  <thead>\n",
       "    <tr style=\"text-align: right;\">\n",
       "      <th></th>\n",
       "      <th>SepalLengthCm</th>\n",
       "      <th>SepalWidthCm</th>\n",
       "      <th>PetalLengthCm</th>\n",
       "      <th>PetalWidthCm</th>\n",
       "      <th>Species</th>\n",
       "    </tr>\n",
       "  </thead>\n",
       "  <tbody>\n",
       "    <tr>\n",
       "      <th>34</th>\n",
       "      <td>4.9</td>\n",
       "      <td>3.1</td>\n",
       "      <td>1.5</td>\n",
       "      <td>0.1</td>\n",
       "      <td>Iris-setosa</td>\n",
       "    </tr>\n",
       "    <tr>\n",
       "      <th>37</th>\n",
       "      <td>4.9</td>\n",
       "      <td>3.1</td>\n",
       "      <td>1.5</td>\n",
       "      <td>0.1</td>\n",
       "      <td>Iris-setosa</td>\n",
       "    </tr>\n",
       "    <tr>\n",
       "      <th>142</th>\n",
       "      <td>5.8</td>\n",
       "      <td>2.7</td>\n",
       "      <td>5.1</td>\n",
       "      <td>1.9</td>\n",
       "      <td>Iris-virginica</td>\n",
       "    </tr>\n",
       "  </tbody>\n",
       "</table>\n",
       "</div>"
      ],
      "text/plain": [
       "     SepalLengthCm  SepalWidthCm  PetalLengthCm  PetalWidthCm         Species\n",
       "34             4.9           3.1            1.5           0.1     Iris-setosa\n",
       "37             4.9           3.1            1.5           0.1     Iris-setosa\n",
       "142            5.8           2.7            5.1           1.9  Iris-virginica"
      ]
     },
     "execution_count": 9,
     "metadata": {},
     "output_type": "execute_result"
    }
   ],
   "source": [
    "data[data.duplicated()]"
   ]
  },
  {
   "cell_type": "code",
   "execution_count": 10,
   "id": "2b05d1b7",
   "metadata": {
    "execution": {
     "iopub.execute_input": "2021-11-03T10:36:52.699090Z",
     "iopub.status.busy": "2021-11-03T10:36:52.697932Z",
     "iopub.status.idle": "2021-11-03T10:36:52.702707Z",
     "shell.execute_reply": "2021-11-03T10:36:52.703371Z",
     "shell.execute_reply.started": "2021-11-03T10:36:04.537577Z"
    },
    "papermill": {
     "duration": 0.066226,
     "end_time": "2021-11-03T10:36:52.703612",
     "exception": false,
     "start_time": "2021-11-03T10:36:52.637386",
     "status": "completed"
    },
    "tags": []
   },
   "outputs": [
    {
     "data": {
      "text/plain": [
       "False    147\n",
       "True       3\n",
       "dtype: int64"
      ]
     },
     "execution_count": 10,
     "metadata": {},
     "output_type": "execute_result"
    }
   ],
   "source": [
    "data.duplicated().value_counts()"
   ]
  },
  {
   "cell_type": "code",
   "execution_count": 11,
   "id": "e97c9d91",
   "metadata": {
    "execution": {
     "iopub.execute_input": "2021-11-03T10:36:52.823683Z",
     "iopub.status.busy": "2021-11-03T10:36:52.822592Z",
     "iopub.status.idle": "2021-11-03T10:36:52.826963Z",
     "shell.execute_reply": "2021-11-03T10:36:52.827556Z",
     "shell.execute_reply.started": "2021-11-03T10:36:04.625601Z"
    },
    "papermill": {
     "duration": 0.071223,
     "end_time": "2021-11-03T10:36:52.827756",
     "exception": false,
     "start_time": "2021-11-03T10:36:52.756533",
     "status": "completed"
    },
    "tags": []
   },
   "outputs": [
    {
     "data": {
      "text/plain": [
       "(147, 5)"
      ]
     },
     "execution_count": 11,
     "metadata": {},
     "output_type": "execute_result"
    }
   ],
   "source": [
    "data.drop_duplicates(inplace=True)\n",
    "data.shape"
   ]
  },
  {
   "cell_type": "code",
   "execution_count": 12,
   "id": "6ea91127",
   "metadata": {
    "execution": {
     "iopub.execute_input": "2021-11-03T10:36:52.949677Z",
     "iopub.status.busy": "2021-11-03T10:36:52.943608Z",
     "iopub.status.idle": "2021-11-03T10:36:52.969098Z",
     "shell.execute_reply": "2021-11-03T10:36:52.969734Z",
     "shell.execute_reply.started": "2021-11-03T10:36:04.636066Z"
    },
    "papermill": {
     "duration": 0.085913,
     "end_time": "2021-11-03T10:36:52.969923",
     "exception": false,
     "start_time": "2021-11-03T10:36:52.884010",
     "status": "completed"
    },
    "tags": []
   },
   "outputs": [
    {
     "data": {
      "text/html": [
       "<div>\n",
       "<style scoped>\n",
       "    .dataframe tbody tr th:only-of-type {\n",
       "        vertical-align: middle;\n",
       "    }\n",
       "\n",
       "    .dataframe tbody tr th {\n",
       "        vertical-align: top;\n",
       "    }\n",
       "\n",
       "    .dataframe thead th {\n",
       "        text-align: right;\n",
       "    }\n",
       "</style>\n",
       "<table border=\"1\" class=\"dataframe\">\n",
       "  <thead>\n",
       "    <tr style=\"text-align: right;\">\n",
       "      <th></th>\n",
       "      <th>SepalLengthCm</th>\n",
       "      <th>SepalWidthCm</th>\n",
       "      <th>PetalLengthCm</th>\n",
       "      <th>PetalWidthCm</th>\n",
       "    </tr>\n",
       "  </thead>\n",
       "  <tbody>\n",
       "    <tr>\n",
       "      <th>count</th>\n",
       "      <td>147.000000</td>\n",
       "      <td>147.000000</td>\n",
       "      <td>147.000000</td>\n",
       "      <td>147.000000</td>\n",
       "    </tr>\n",
       "    <tr>\n",
       "      <th>mean</th>\n",
       "      <td>5.856463</td>\n",
       "      <td>3.055782</td>\n",
       "      <td>3.780272</td>\n",
       "      <td>1.208844</td>\n",
       "    </tr>\n",
       "    <tr>\n",
       "      <th>std</th>\n",
       "      <td>0.829100</td>\n",
       "      <td>0.437009</td>\n",
       "      <td>1.759111</td>\n",
       "      <td>0.757874</td>\n",
       "    </tr>\n",
       "    <tr>\n",
       "      <th>min</th>\n",
       "      <td>4.300000</td>\n",
       "      <td>2.000000</td>\n",
       "      <td>1.000000</td>\n",
       "      <td>0.100000</td>\n",
       "    </tr>\n",
       "    <tr>\n",
       "      <th>25%</th>\n",
       "      <td>5.100000</td>\n",
       "      <td>2.800000</td>\n",
       "      <td>1.600000</td>\n",
       "      <td>0.300000</td>\n",
       "    </tr>\n",
       "    <tr>\n",
       "      <th>50%</th>\n",
       "      <td>5.800000</td>\n",
       "      <td>3.000000</td>\n",
       "      <td>4.400000</td>\n",
       "      <td>1.300000</td>\n",
       "    </tr>\n",
       "    <tr>\n",
       "      <th>75%</th>\n",
       "      <td>6.400000</td>\n",
       "      <td>3.300000</td>\n",
       "      <td>5.100000</td>\n",
       "      <td>1.800000</td>\n",
       "    </tr>\n",
       "    <tr>\n",
       "      <th>max</th>\n",
       "      <td>7.900000</td>\n",
       "      <td>4.400000</td>\n",
       "      <td>6.900000</td>\n",
       "      <td>2.500000</td>\n",
       "    </tr>\n",
       "  </tbody>\n",
       "</table>\n",
       "</div>"
      ],
      "text/plain": [
       "       SepalLengthCm  SepalWidthCm  PetalLengthCm  PetalWidthCm\n",
       "count     147.000000    147.000000     147.000000    147.000000\n",
       "mean        5.856463      3.055782       3.780272      1.208844\n",
       "std         0.829100      0.437009       1.759111      0.757874\n",
       "min         4.300000      2.000000       1.000000      0.100000\n",
       "25%         5.100000      2.800000       1.600000      0.300000\n",
       "50%         5.800000      3.000000       4.400000      1.300000\n",
       "75%         6.400000      3.300000       5.100000      1.800000\n",
       "max         7.900000      4.400000       6.900000      2.500000"
      ]
     },
     "execution_count": 12,
     "metadata": {},
     "output_type": "execute_result"
    }
   ],
   "source": [
    "data.describe()"
   ]
  },
  {
   "cell_type": "code",
   "execution_count": 13,
   "id": "f6e5e2bd",
   "metadata": {
    "execution": {
     "iopub.execute_input": "2021-11-03T10:36:53.091161Z",
     "iopub.status.busy": "2021-11-03T10:36:53.090365Z",
     "iopub.status.idle": "2021-11-03T10:36:53.105196Z",
     "shell.execute_reply": "2021-11-03T10:36:53.105799Z",
     "shell.execute_reply.started": "2021-11-03T10:36:04.667816Z"
    },
    "papermill": {
     "duration": 0.07797,
     "end_time": "2021-11-03T10:36:53.106011",
     "exception": false,
     "start_time": "2021-11-03T10:36:53.028041",
     "status": "completed"
    },
    "tags": []
   },
   "outputs": [
    {
     "data": {
      "text/html": [
       "<div>\n",
       "<style scoped>\n",
       "    .dataframe tbody tr th:only-of-type {\n",
       "        vertical-align: middle;\n",
       "    }\n",
       "\n",
       "    .dataframe tbody tr th {\n",
       "        vertical-align: top;\n",
       "    }\n",
       "\n",
       "    .dataframe thead th {\n",
       "        text-align: right;\n",
       "    }\n",
       "</style>\n",
       "<table border=\"1\" class=\"dataframe\">\n",
       "  <thead>\n",
       "    <tr style=\"text-align: right;\">\n",
       "      <th></th>\n",
       "      <th>SepalLengthCm</th>\n",
       "      <th>SepalWidthCm</th>\n",
       "      <th>PetalLengthCm</th>\n",
       "      <th>PetalWidthCm</th>\n",
       "    </tr>\n",
       "  </thead>\n",
       "  <tbody>\n",
       "    <tr>\n",
       "      <th>SepalLengthCm</th>\n",
       "      <td>1.000000</td>\n",
       "      <td>-0.109321</td>\n",
       "      <td>0.871305</td>\n",
       "      <td>0.817058</td>\n",
       "    </tr>\n",
       "    <tr>\n",
       "      <th>SepalWidthCm</th>\n",
       "      <td>-0.109321</td>\n",
       "      <td>1.000000</td>\n",
       "      <td>-0.421057</td>\n",
       "      <td>-0.356376</td>\n",
       "    </tr>\n",
       "    <tr>\n",
       "      <th>PetalLengthCm</th>\n",
       "      <td>0.871305</td>\n",
       "      <td>-0.421057</td>\n",
       "      <td>1.000000</td>\n",
       "      <td>0.961883</td>\n",
       "    </tr>\n",
       "    <tr>\n",
       "      <th>PetalWidthCm</th>\n",
       "      <td>0.817058</td>\n",
       "      <td>-0.356376</td>\n",
       "      <td>0.961883</td>\n",
       "      <td>1.000000</td>\n",
       "    </tr>\n",
       "  </tbody>\n",
       "</table>\n",
       "</div>"
      ],
      "text/plain": [
       "               SepalLengthCm  SepalWidthCm  PetalLengthCm  PetalWidthCm\n",
       "SepalLengthCm       1.000000     -0.109321       0.871305      0.817058\n",
       "SepalWidthCm       -0.109321      1.000000      -0.421057     -0.356376\n",
       "PetalLengthCm       0.871305     -0.421057       1.000000      0.961883\n",
       "PetalWidthCm        0.817058     -0.356376       0.961883      1.000000"
      ]
     },
     "execution_count": 13,
     "metadata": {},
     "output_type": "execute_result"
    }
   ],
   "source": [
    "data.corr()"
   ]
  },
  {
   "cell_type": "markdown",
   "id": "0a37ca4f",
   "metadata": {
    "papermill": {
     "duration": 0.05798,
     "end_time": "2021-11-03T10:36:53.224181",
     "exception": false,
     "start_time": "2021-11-03T10:36:53.166201",
     "status": "completed"
    },
    "tags": []
   },
   "source": [
    "# **Iris Dataset: Data Visualisation**"
   ]
  },
  {
   "cell_type": "code",
   "execution_count": 14,
   "id": "1cdfa957",
   "metadata": {
    "execution": {
     "iopub.execute_input": "2021-11-03T10:36:53.339929Z",
     "iopub.status.busy": "2021-11-03T10:36:53.339122Z",
     "iopub.status.idle": "2021-11-03T10:36:54.512336Z",
     "shell.execute_reply": "2021-11-03T10:36:54.511724Z",
     "shell.execute_reply.started": "2021-11-03T10:36:04.684027Z"
    },
    "papermill": {
     "duration": 1.23374,
     "end_time": "2021-11-03T10:36:54.512498",
     "exception": false,
     "start_time": "2021-11-03T10:36:53.278758",
     "status": "completed"
    },
    "tags": []
   },
   "outputs": [],
   "source": [
    "import matplotlib.pyplot as plt\n",
    "import seaborn as sns\n",
    "%matplotlib inline"
   ]
  },
  {
   "cell_type": "code",
   "execution_count": 15,
   "id": "4f0a0dc9",
   "metadata": {
    "execution": {
     "iopub.execute_input": "2021-11-03T10:36:54.625340Z",
     "iopub.status.busy": "2021-11-03T10:36:54.624633Z",
     "iopub.status.idle": "2021-11-03T10:36:55.174303Z",
     "shell.execute_reply": "2021-11-03T10:36:55.172912Z",
     "shell.execute_reply.started": "2021-11-03T10:36:04.692087Z"
    },
    "papermill": {
     "duration": 0.610741,
     "end_time": "2021-11-03T10:36:55.174773",
     "exception": false,
     "start_time": "2021-11-03T10:36:54.564032",
     "status": "completed"
    },
    "tags": []
   },
   "outputs": [
    {
     "data": {
      "text/plain": [
       "<AxesSubplot:>"
      ]
     },
     "execution_count": 15,
     "metadata": {},
     "output_type": "execute_result"
    },
    {
     "data": {
      "image/png": "[encoded data removed]",
      "text/plain": [
       "<Figure size 432x288 with 2 Axes>"
      ]
     },
     "metadata": {
      "needs_background": "light"
     },
     "output_type": "display_data"
    }
   ],
   "source": [
    "sns.heatmap(data=data.corr())"
   ]
  },
  {
   "cell_type": "code",
   "execution_count": 16,
   "id": "a0a99ed4",
   "metadata": {
    "execution": {
     "iopub.execute_input": "2021-11-03T10:36:55.297602Z",
     "iopub.status.busy": "2021-11-03T10:36:55.296733Z",
     "iopub.status.idle": "2021-11-03T10:36:55.305099Z",
     "shell.execute_reply": "2021-11-03T10:36:55.305624Z",
     "shell.execute_reply.started": "2021-11-03T10:36:04.999656Z"
    },
    "papermill": {
     "duration": 0.072935,
     "end_time": "2021-11-03T10:36:55.305836",
     "exception": false,
     "start_time": "2021-11-03T10:36:55.232901",
     "status": "completed"
    },
    "tags": []
   },
   "outputs": [
    {
     "data": {
      "text/plain": [
       "Iris-versicolor    50\n",
       "Iris-virginica     49\n",
       "Iris-setosa        48\n",
       "Name: Species, dtype: int64"
      ]
     },
     "execution_count": 16,
     "metadata": {},
     "output_type": "execute_result"
    }
   ],
   "source": [
    "data['Species'].value_counts()"
   ]
  },
  {
   "cell_type": "code",
   "execution_count": 17,
   "id": "ef6eaf15",
   "metadata": {
    "execution": {
     "iopub.execute_input": "2021-11-03T10:36:55.423925Z",
     "iopub.status.busy": "2021-11-03T10:36:55.423202Z",
     "iopub.status.idle": "2021-11-03T10:36:55.689074Z",
     "shell.execute_reply": "2021-11-03T10:36:55.689644Z",
     "shell.execute_reply.started": "2021-11-03T10:36:05.010497Z"
    },
    "papermill": {
     "duration": 0.326504,
     "end_time": "2021-11-03T10:36:55.689836",
     "exception": false,
     "start_time": "2021-11-03T10:36:55.363332",
     "status": "completed"
    },
    "tags": []
   },
   "outputs": [
    {
     "data": {
      "image/png": "[encoded data removed]",
      "text/plain": [
       "<Figure size 432x288 with 1 Axes>"
      ]
     },
     "metadata": {
      "needs_background": "light"
     },
     "output_type": "display_data"
    }
   ],
   "source": [
    "data['Species'].value_counts().plot.bar()\n",
    "plt.tight_layout()\n",
    "plt.show()"
   ]
  },
  {
   "cell_type": "code",
   "execution_count": 18,
   "id": "a710945a",
   "metadata": {
    "execution": {
     "iopub.execute_input": "2021-11-03T10:36:55.808286Z",
     "iopub.status.busy": "2021-11-03T10:36:55.807197Z",
     "iopub.status.idle": "2021-11-03T10:36:56.035226Z",
     "shell.execute_reply": "2021-11-03T10:36:56.035759Z",
     "shell.execute_reply.started": "2021-11-03T10:36:05.156460Z"
    },
    "papermill": {
     "duration": 0.290304,
     "end_time": "2021-11-03T10:36:56.035963",
     "exception": false,
     "start_time": "2021-11-03T10:36:55.745659",
     "status": "completed"
    },
    "tags": []
   },
   "outputs": [
    {
     "data": {
      "image/png": "[encoded data removed]",
      "text/plain": [
       "<Figure size 432x288 with 1 Axes>"
      ]
     },
     "metadata": {
      "needs_background": "light"
     },
     "output_type": "display_data"
    }
   ],
   "source": [
    "sns.countplot(data=data, x='Species')\n",
    "plt.tight_layout()"
   ]
  },
  {
   "cell_type": "code",
   "execution_count": 19,
   "id": "9bddc56c",
   "metadata": {
    "execution": {
     "iopub.execute_input": "2021-11-03T10:36:56.161524Z",
     "iopub.status.busy": "2021-11-03T10:36:56.160448Z",
     "iopub.status.idle": "2021-11-03T10:36:56.472663Z",
     "shell.execute_reply": "2021-11-03T10:36:56.473356Z",
     "shell.execute_reply.started": "2021-11-03T10:36:05.300434Z"
    },
    "papermill": {
     "duration": 0.378348,
     "end_time": "2021-11-03T10:36:56.473587",
     "exception": false,
     "start_time": "2021-11-03T10:36:56.095239",
     "status": "completed"
    },
    "tags": []
   },
   "outputs": [
    {
     "data": {
      "image/png": "[encoded data removed]",
      "text/plain": [
       "<Figure size 432x288 with 1 Axes>"
      ]
     },
     "metadata": {},
     "output_type": "display_data"
    }
   ],
   "source": [
    "data['Species'].value_counts().plot.pie(autopct='%1.1f%%', labels=None, legend=True)\n",
    "plt.tight_layout()"
   ]
  },
  {
   "cell_type": "code",
   "execution_count": 20,
   "id": "7b1d3e27",
   "metadata": {
    "execution": {
     "iopub.execute_input": "2021-11-03T10:36:56.608867Z",
     "iopub.status.busy": "2021-11-03T10:36:56.607817Z",
     "iopub.status.idle": "2021-11-03T10:36:57.301734Z",
     "shell.execute_reply": "2021-11-03T10:36:57.302332Z",
     "shell.execute_reply.started": "2021-11-03T10:36:05.562292Z"
    },
    "papermill": {
     "duration": 0.769775,
     "end_time": "2021-11-03T10:36:57.302566",
     "exception": false,
     "start_time": "2021-11-03T10:36:56.532791",
     "status": "completed"
    },
    "tags": []
   },
   "outputs": [
    {
     "data": {
      "text/plain": [
       "Text(0.5, 1.0, 'Petal Width')"
      ]
     },
     "execution_count": 20,
     "metadata": {},
     "output_type": "execute_result"
    },
    {
     "data": {
      "image/png": "[encoded data removed]",
      "text/plain": [
       "<Figure size 576x576 with 4 Axes>"
      ]
     },
     "metadata": {
      "needs_background": "light"
     },
     "output_type": "display_data"
    }
   ],
   "source": [
    "fig,ax = plt.subplots(nrows=2, ncols=2, figsize=(8,8))\n",
    "\n",
    "data['SepalLengthCm'].plot.line(ax=ax[0][0])\n",
    "ax[0][0].set_title('Sepal Length')\n",
    "\n",
    "data['SepalWidthCm'].plot.line(ax=ax[0][1])\n",
    "ax[0][1].set_title('Sepal Width')\n",
    "\n",
    "data['PetalLengthCm'].plot.line(ax=ax[1][0])\n",
    "ax[1][0].set_title('Petal Length')\n",
    "\n",
    "data['PetalWidthCm'].plot.line(ax=ax[1][1])\n",
    "ax[1][1].set_title('Petal Width')"
   ]
  },
  {
   "cell_type": "code",
   "execution_count": 21,
   "id": "554d3298",
   "metadata": {
    "execution": {
     "iopub.execute_input": "2021-11-03T10:36:57.434469Z",
     "iopub.status.busy": "2021-11-03T10:36:57.433361Z",
     "iopub.status.idle": "2021-11-03T10:36:57.837800Z",
     "shell.execute_reply": "2021-11-03T10:36:57.837067Z",
     "shell.execute_reply.started": "2021-11-03T10:36:06.142984Z"
    },
    "papermill": {
     "duration": 0.471694,
     "end_time": "2021-11-03T10:36:57.838007",
     "exception": false,
     "start_time": "2021-11-03T10:36:57.366313",
     "status": "completed"
    },
    "tags": []
   },
   "outputs": [
    {
     "data": {
      "image/png": "[encoded data removed]",
      "text/plain": [
       "<Figure size 432x288 with 1 Axes>"
      ]
     },
     "metadata": {
      "needs_background": "light"
     },
     "output_type": "display_data"
    }
   ],
   "source": [
    "data.plot()\n",
    "plt.tight_layout()"
   ]
  },
  {
   "cell_type": "code",
   "execution_count": 22,
   "id": "77a0e5dd",
   "metadata": {
    "execution": {
     "iopub.execute_input": "2021-11-03T10:36:57.980011Z",
     "iopub.status.busy": "2021-11-03T10:36:57.978850Z",
     "iopub.status.idle": "2021-11-03T10:36:58.887429Z",
     "shell.execute_reply": "2021-11-03T10:36:58.887955Z",
     "shell.execute_reply.started": "2021-11-03T10:36:06.487895Z"
    },
    "papermill": {
     "duration": 0.98385,
     "end_time": "2021-11-03T10:36:58.888150",
     "exception": false,
     "start_time": "2021-11-03T10:36:57.904300",
     "status": "completed"
    },
    "tags": []
   },
   "outputs": [
    {
     "data": {
      "image/png": "[encoded data removed]",
      "text/plain": [
       "<Figure size 432x432 with 4 Axes>"
      ]
     },
     "metadata": {
      "needs_background": "light"
     },
     "output_type": "display_data"
    }
   ],
   "source": [
    "data.hist(figsize=(6,6), bins=10)\n",
    "plt.tight_layout()"
   ]
  },
  {
   "cell_type": "code",
   "execution_count": 23,
   "id": "b42944df",
   "metadata": {
    "execution": {
     "iopub.execute_input": "2021-11-03T10:36:59.032424Z",
     "iopub.status.busy": "2021-11-03T10:36:59.030834Z",
     "iopub.status.idle": "2021-11-03T10:36:59.393616Z",
     "shell.execute_reply": "2021-11-03T10:36:59.392883Z",
     "shell.execute_reply.started": "2021-11-03T10:36:07.225407Z"
    },
    "papermill": {
     "duration": 0.435525,
     "end_time": "2021-11-03T10:36:59.393779",
     "exception": false,
     "start_time": "2021-11-03T10:36:58.958254",
     "status": "completed"
    },
    "tags": []
   },
   "outputs": [
    {
     "data": {
      "image/png": "[encoded data removed]",
      "text/plain": [
       "<Figure size 432x288 with 1 Axes>"
      ]
     },
     "metadata": {
      "needs_background": "light"
     },
     "output_type": "display_data"
    }
   ],
   "source": [
    "data.boxplot()\n",
    "plt.tight_layout()"
   ]
  },
  {
   "cell_type": "code",
   "execution_count": 24,
   "id": "f042e002",
   "metadata": {
    "execution": {
     "iopub.execute_input": "2021-11-03T10:36:59.550211Z",
     "iopub.status.busy": "2021-11-03T10:36:59.549519Z",
     "iopub.status.idle": "2021-11-03T10:37:01.127429Z",
     "shell.execute_reply": "2021-11-03T10:37:01.128168Z",
     "shell.execute_reply.started": "2021-11-03T10:36:07.509083Z"
    },
    "papermill": {
     "duration": 1.665445,
     "end_time": "2021-11-03T10:37:01.128407",
     "exception": false,
     "start_time": "2021-11-03T10:36:59.462962",
     "status": "completed"
    },
    "tags": []
   },
   "outputs": [
    {
     "data": {
      "image/png": "[encoded data removed]",
      "text/plain": [
       "<Figure size 576x576 with 4 Axes>"
      ]
     },
     "metadata": {
      "needs_background": "light"
     },
     "output_type": "display_data"
    }
   ],
   "source": [
    "data.boxplot(by='Species', figsize=(8,8))\n",
    "plt.tight_layout()"
   ]
  },
  {
   "cell_type": "code",
   "execution_count": 25,
   "id": "7ebf3dc9",
   "metadata": {
    "execution": {
     "iopub.execute_input": "2021-11-03T10:37:01.269042Z",
     "iopub.status.busy": "2021-11-03T10:37:01.268224Z",
     "iopub.status.idle": "2021-11-03T10:37:01.771650Z",
     "shell.execute_reply": "2021-11-03T10:37:01.771081Z",
     "shell.execute_reply.started": "2021-11-03T10:36:08.810249Z"
    },
    "papermill": {
     "duration": 0.57753,
     "end_time": "2021-11-03T10:37:01.771814",
     "exception": false,
     "start_time": "2021-11-03T10:37:01.194284",
     "status": "completed"
    },
    "tags": []
   },
   "outputs": [
    {
     "data": {
      "image/png": "[encoded data removed]",
      "text/plain": [
       "<Figure size 432x288 with 1 Axes>"
      ]
     },
     "metadata": {
      "needs_background": "light"
     },
     "output_type": "display_data"
    }
   ],
   "source": [
    "sns.scatterplot(x='SepalLengthCm', y='SepalWidthCm', data=data, hue='Species')\n",
    "plt.tight_layout()"
   ]
  },
  {
   "cell_type": "code",
   "execution_count": 26,
   "id": "8d7aa0b7",
   "metadata": {
    "execution": {
     "iopub.execute_input": "2021-11-03T10:37:01.916147Z",
     "iopub.status.busy": "2021-11-03T10:37:01.915441Z",
     "iopub.status.idle": "2021-11-03T10:37:08.090183Z",
     "shell.execute_reply": "2021-11-03T10:37:08.090755Z",
     "shell.execute_reply.started": "2021-11-03T10:36:09.222625Z"
    },
    "papermill": {
     "duration": 6.250244,
     "end_time": "2021-11-03T10:37:08.090972",
     "exception": false,
     "start_time": "2021-11-03T10:37:01.840728",
     "status": "completed"
    },
    "tags": []
   },
   "outputs": [
    {
     "data": {
      "image/png": "[encoded data removed]",
      "text/plain": [
       "<Figure size 823.25x720 with 20 Axes>"
      ]
     },
     "metadata": {
      "needs_background": "light"
     },
     "output_type": "display_data"
    }
   ],
   "source": [
    "sns.pairplot(data, hue='Species', markers='+')\n",
    "plt.tight_layout()"
   ]
  },
  {
   "cell_type": "code",
   "execution_count": 27,
   "id": "0d80ecba",
   "metadata": {
    "execution": {
     "iopub.execute_input": "2021-11-03T10:37:08.251715Z",
     "iopub.status.busy": "2021-11-03T10:37:08.250975Z",
     "iopub.status.idle": "2021-11-03T10:37:08.541989Z",
     "shell.execute_reply": "2021-11-03T10:37:08.542545Z",
     "shell.execute_reply.started": "2021-11-03T10:36:14.040371Z"
    },
    "papermill": {
     "duration": 0.374939,
     "end_time": "2021-11-03T10:37:08.542758",
     "exception": false,
     "start_time": "2021-11-03T10:37:08.167819",
     "status": "completed"
    },
    "tags": []
   },
   "outputs": [
    {
     "data": {
      "image/png": "[encoded data removed]",
      "text/plain": [
       "<Figure size 432x288 with 1 Axes>"
      ]
     },
     "metadata": {
      "needs_background": "light"
     },
     "output_type": "display_data"
    }
   ],
   "source": [
    "sns.violinplot(data=data, y='Species', x='SepalLengthCm', inner='quartile')\n",
    "plt.tight_layout()"
   ]
  },
  {
   "cell_type": "markdown",
   "id": "16dace98",
   "metadata": {
    "papermill": {
     "duration": 0.074347,
     "end_time": "2021-11-03T10:37:08.688282",
     "exception": false,
     "start_time": "2021-11-03T10:37:08.613935",
     "status": "completed"
    },
    "tags": []
   },
   "source": [
    "# **Iris Dataset: Classification Models**"
   ]
  },
  {
   "cell_type": "code",
   "execution_count": 28,
   "id": "a563a163",
   "metadata": {
    "execution": {
     "iopub.execute_input": "2021-11-03T10:37:08.840679Z",
     "iopub.status.busy": "2021-11-03T10:37:08.839785Z",
     "iopub.status.idle": "2021-11-03T10:37:09.332744Z",
     "shell.execute_reply": "2021-11-03T10:37:09.332128Z",
     "shell.execute_reply.started": "2021-11-03T10:36:14.295597Z"
    },
    "papermill": {
     "duration": 0.572255,
     "end_time": "2021-11-03T10:37:09.332905",
     "exception": false,
     "start_time": "2021-11-03T10:37:08.760650",
     "status": "completed"
    },
    "tags": []
   },
   "outputs": [],
   "source": [
    "from sklearn.model_selection import train_test_split\n",
    "from sklearn.metrics import accuracy_score,confusion_matrix,classification_report"
   ]
  },
  {
   "cell_type": "code",
   "execution_count": 29,
   "id": "f0be1cc8",
   "metadata": {
    "execution": {
     "iopub.execute_input": "2021-11-03T10:37:09.489228Z",
     "iopub.status.busy": "2021-11-03T10:37:09.488531Z",
     "iopub.status.idle": "2021-11-03T10:37:09.501770Z",
     "shell.execute_reply": "2021-11-03T10:37:09.502319Z",
     "shell.execute_reply.started": "2021-11-03T10:36:14.302365Z"
    },
    "papermill": {
     "duration": 0.09336,
     "end_time": "2021-11-03T10:37:09.502530",
     "exception": false,
     "start_time": "2021-11-03T10:37:09.409170",
     "status": "completed"
    },
    "tags": []
   },
   "outputs": [
    {
     "data": {
      "text/html": [
       "<div>\n",
       "<style scoped>\n",
       "    .dataframe tbody tr th:only-of-type {\n",
       "        vertical-align: middle;\n",
       "    }\n",
       "\n",
       "    .dataframe tbody tr th {\n",
       "        vertical-align: top;\n",
       "    }\n",
       "\n",
       "    .dataframe thead th {\n",
       "        text-align: right;\n",
       "    }\n",
       "</style>\n",
       "<table border=\"1\" class=\"dataframe\">\n",
       "  <thead>\n",
       "    <tr style=\"text-align: right;\">\n",
       "      <th></th>\n",
       "      <th>SepalLengthCm</th>\n",
       "      <th>SepalWidthCm</th>\n",
       "      <th>PetalLengthCm</th>\n",
       "      <th>PetalWidthCm</th>\n",
       "    </tr>\n",
       "  </thead>\n",
       "  <tbody>\n",
       "    <tr>\n",
       "      <th>0</th>\n",
       "      <td>5.1</td>\n",
       "      <td>3.5</td>\n",
       "      <td>1.4</td>\n",
       "      <td>0.2</td>\n",
       "    </tr>\n",
       "    <tr>\n",
       "      <th>1</th>\n",
       "      <td>4.9</td>\n",
       "      <td>3.0</td>\n",
       "      <td>1.4</td>\n",
       "      <td>0.2</td>\n",
       "    </tr>\n",
       "    <tr>\n",
       "      <th>2</th>\n",
       "      <td>4.7</td>\n",
       "      <td>3.2</td>\n",
       "      <td>1.3</td>\n",
       "      <td>0.2</td>\n",
       "    </tr>\n",
       "    <tr>\n",
       "      <th>3</th>\n",
       "      <td>4.6</td>\n",
       "      <td>3.1</td>\n",
       "      <td>1.5</td>\n",
       "      <td>0.2</td>\n",
       "    </tr>\n",
       "    <tr>\n",
       "      <th>4</th>\n",
       "      <td>5.0</td>\n",
       "      <td>3.6</td>\n",
       "      <td>1.4</td>\n",
       "      <td>0.2</td>\n",
       "    </tr>\n",
       "  </tbody>\n",
       "</table>\n",
       "</div>"
      ],
      "text/plain": [
       "   SepalLengthCm  SepalWidthCm  PetalLengthCm  PetalWidthCm\n",
       "0            5.1           3.5            1.4           0.2\n",
       "1            4.9           3.0            1.4           0.2\n",
       "2            4.7           3.2            1.3           0.2\n",
       "3            4.6           3.1            1.5           0.2\n",
       "4            5.0           3.6            1.4           0.2"
      ]
     },
     "execution_count": 29,
     "metadata": {},
     "output_type": "execute_result"
    }
   ],
   "source": [
    "X = data.drop(columns='Species')\n",
    "X.head()"
   ]
  },
  {
   "cell_type": "code",
   "execution_count": 30,
   "id": "d69b56ed",
   "metadata": {
    "execution": {
     "iopub.execute_input": "2021-11-03T10:37:09.654521Z",
     "iopub.status.busy": "2021-11-03T10:37:09.653784Z",
     "iopub.status.idle": "2021-11-03T10:37:09.661858Z",
     "shell.execute_reply": "2021-11-03T10:37:09.661302Z",
     "shell.execute_reply.started": "2021-11-03T10:36:14.324648Z"
    },
    "papermill": {
     "duration": 0.085833,
     "end_time": "2021-11-03T10:37:09.662013",
     "exception": false,
     "start_time": "2021-11-03T10:37:09.576180",
     "status": "completed"
    },
    "tags": []
   },
   "outputs": [
    {
     "data": {
      "text/plain": [
       "0    Iris-setosa\n",
       "1    Iris-setosa\n",
       "2    Iris-setosa\n",
       "3    Iris-setosa\n",
       "4    Iris-setosa\n",
       "Name: Species, dtype: object"
      ]
     },
     "execution_count": 30,
     "metadata": {},
     "output_type": "execute_result"
    }
   ],
   "source": [
    "y = data['Species']\n",
    "y.head()"
   ]
  },
  {
   "cell_type": "code",
   "execution_count": 31,
   "id": "63fead97",
   "metadata": {
    "execution": {
     "iopub.execute_input": "2021-11-03T10:37:09.813645Z",
     "iopub.status.busy": "2021-11-03T10:37:09.812893Z",
     "iopub.status.idle": "2021-11-03T10:37:09.823340Z",
     "shell.execute_reply": "2021-11-03T10:37:09.823935Z",
     "shell.execute_reply.started": "2021-11-03T10:36:14.339335Z"
    },
    "papermill": {
     "duration": 0.086062,
     "end_time": "2021-11-03T10:37:09.824130",
     "exception": false,
     "start_time": "2021-11-03T10:37:09.738068",
     "status": "completed"
    },
    "tags": []
   },
   "outputs": [
    {
     "name": "stdout",
     "output_type": "stream",
     "text": [
      "training dataset\n",
      "(88, 4)\n",
      "(88,)\n",
      "testing dataset\n",
      "(59, 4)\n",
      "(59,)\n"
     ]
    }
   ],
   "source": [
    "X_train, X_test, y_train, y_test = train_test_split(X,y, test_size=0.4, random_state=10)\n",
    "print('training dataset')\n",
    "print(X_train.shape)\n",
    "print(y_train.shape)\n",
    "print('testing dataset')\n",
    "print(X_test.shape)\n",
    "print(y_test.shape)"
   ]
  },
  {
   "cell_type": "markdown",
   "id": "cce1b738",
   "metadata": {
    "papermill": {
     "duration": 0.075727,
     "end_time": "2021-11-03T10:37:09.976111",
     "exception": false,
     "start_time": "2021-11-03T10:37:09.900384",
     "status": "completed"
    },
    "tags": []
   },
   "source": [
    "## **K Nearest Neighbors**"
   ]
  },
  {
   "cell_type": "code",
   "execution_count": 32,
   "id": "3e7f95c0",
   "metadata": {
    "execution": {
     "iopub.execute_input": "2021-11-03T10:37:10.136906Z",
     "iopub.status.busy": "2021-11-03T10:37:10.136085Z",
     "iopub.status.idle": "2021-11-03T10:37:10.307134Z",
     "shell.execute_reply": "2021-11-03T10:37:10.306537Z",
     "shell.execute_reply.started": "2021-11-03T10:36:14.355028Z"
    },
    "papermill": {
     "duration": 0.253144,
     "end_time": "2021-11-03T10:37:10.307327",
     "exception": false,
     "start_time": "2021-11-03T10:37:10.054183",
     "status": "completed"
    },
    "tags": []
   },
   "outputs": [],
   "source": [
    "from sklearn.neighbors import KNeighborsClassifier"
   ]
  },
  {
   "cell_type": "code",
   "execution_count": 33,
   "id": "f31ae64a",
   "metadata": {
    "execution": {
     "iopub.execute_input": "2021-11-03T10:37:10.459858Z",
     "iopub.status.busy": "2021-11-03T10:37:10.458833Z",
     "iopub.status.idle": "2021-11-03T10:37:10.661352Z",
     "shell.execute_reply": "2021-11-03T10:37:10.660306Z",
     "shell.execute_reply.started": "2021-11-03T10:36:14.364887Z"
    },
    "papermill": {
     "duration": 0.281836,
     "end_time": "2021-11-03T10:37:10.661519",
     "exception": false,
     "start_time": "2021-11-03T10:37:10.379683",
     "status": "completed"
    },
    "tags": []
   },
   "outputs": [],
   "source": [
    "k_range = list(range(1,26))\n",
    "scores = []\n",
    "for k in k_range:\n",
    "    model_knn = KNeighborsClassifier(n_neighbors=k)\n",
    "    model_knn.fit(X_train,y_train)\n",
    "    y_pred = model_knn.predict(X_test)\n",
    "    scores.append(accuracy_score(y_test,y_pred))"
   ]
  },
  {
   "cell_type": "code",
   "execution_count": 34,
   "id": "9adf4968",
   "metadata": {
    "execution": {
     "iopub.execute_input": "2021-11-03T10:37:10.843119Z",
     "iopub.status.busy": "2021-11-03T10:37:10.831686Z",
     "iopub.status.idle": "2021-11-03T10:37:11.114966Z",
     "shell.execute_reply": "2021-11-03T10:37:11.115546Z",
     "shell.execute_reply.started": "2021-11-03T10:36:14.521129Z"
    },
    "papermill": {
     "duration": 0.37928,
     "end_time": "2021-11-03T10:37:11.115746",
     "exception": false,
     "start_time": "2021-11-03T10:37:10.736466",
     "status": "completed"
    },
    "tags": []
   },
   "outputs": [
    {
     "data": {
      "text/plain": [
       "<function matplotlib.pyplot.show(close=None, block=None)>"
      ]
     },
     "execution_count": 34,
     "metadata": {},
     "output_type": "execute_result"
    },
    {
     "data": {
      "image/png": "[encoded data removed]",
      "text/plain": [
       "<Figure size 432x288 with 1 Axes>"
      ]
     },
     "metadata": {
      "needs_background": "light"
     },
     "output_type": "display_data"
    }
   ],
   "source": [
    "plt.plot(k_range,scores)\n",
    "plt.xlabel('Value of k for KNN')\n",
    "plt.ylabel('Accuracy Score')\n",
    "plt.title('Accuracy Scores for Values of k of k-Nearest-Neighbors')\n",
    "plt.tight_layout()\n",
    "plt.show"
   ]
  },
  {
   "cell_type": "code",
   "execution_count": 35,
   "id": "55c5513b",
   "metadata": {
    "execution": {
     "iopub.execute_input": "2021-11-03T10:37:11.284043Z",
     "iopub.status.busy": "2021-11-03T10:37:11.274482Z",
     "iopub.status.idle": "2021-11-03T10:37:11.290012Z",
     "shell.execute_reply": "2021-11-03T10:37:11.289309Z",
     "shell.execute_reply.started": "2021-11-03T10:36:14.775171Z"
    },
    "papermill": {
     "duration": 0.096439,
     "end_time": "2021-11-03T10:37:11.290170",
     "exception": false,
     "start_time": "2021-11-03T10:37:11.193731",
     "status": "completed"
    },
    "tags": []
   },
   "outputs": [],
   "source": [
    "model_knn = KNeighborsClassifier(n_neighbors=3)\n",
    "model_knn.fit(X_train,y_train)\n",
    "y_pred = model_knn.predict(X_test)"
   ]
  },
  {
   "cell_type": "markdown",
   "id": "1e719a72",
   "metadata": {
    "papermill": {
     "duration": 0.077471,
     "end_time": "2021-11-03T10:37:11.444190",
     "exception": false,
     "start_time": "2021-11-03T10:37:11.366719",
     "status": "completed"
    },
    "tags": []
   },
   "source": [
    "#### **Accuracy Score**"
   ]
  },
  {
   "cell_type": "code",
   "execution_count": 36,
   "id": "6a0554dc",
   "metadata": {
    "execution": {
     "iopub.execute_input": "2021-11-03T10:37:11.605995Z",
     "iopub.status.busy": "2021-11-03T10:37:11.605196Z",
     "iopub.status.idle": "2021-11-03T10:37:11.610813Z",
     "shell.execute_reply": "2021-11-03T10:37:11.611556Z",
     "shell.execute_reply.started": "2021-11-03T10:36:14.787712Z"
    },
    "papermill": {
     "duration": 0.090401,
     "end_time": "2021-11-03T10:37:11.611806",
     "exception": false,
     "start_time": "2021-11-03T10:37:11.521405",
     "status": "completed"
    },
    "tags": []
   },
   "outputs": [
    {
     "name": "stdout",
     "output_type": "stream",
     "text": [
      "0.9322033898305084\n"
     ]
    }
   ],
   "source": [
    "print(accuracy_score(y_test,y_pred))"
   ]
  },
  {
   "cell_type": "markdown",
   "id": "8b3606b3",
   "metadata": {
    "papermill": {
     "duration": 0.072928,
     "end_time": "2021-11-03T10:37:11.758438",
     "exception": false,
     "start_time": "2021-11-03T10:37:11.685510",
     "status": "completed"
    },
    "tags": []
   },
   "source": [
    "#### **Confusion Matrix**"
   ]
  },
  {
   "cell_type": "code",
   "execution_count": 37,
   "id": "0c0a6116",
   "metadata": {
    "execution": {
     "iopub.execute_input": "2021-11-03T10:37:11.912577Z",
     "iopub.status.busy": "2021-11-03T10:37:11.911693Z",
     "iopub.status.idle": "2021-11-03T10:37:11.914927Z",
     "shell.execute_reply": "2021-11-03T10:37:11.915605Z",
     "shell.execute_reply.started": "2021-11-03T10:36:14.798514Z"
    },
    "papermill": {
     "duration": 0.085193,
     "end_time": "2021-11-03T10:37:11.915811",
     "exception": false,
     "start_time": "2021-11-03T10:37:11.830618",
     "status": "completed"
    },
    "tags": []
   },
   "outputs": [
    {
     "name": "stdout",
     "output_type": "stream",
     "text": [
      "[[18  0  0]\n",
      " [ 0 19  2]\n",
      " [ 0  2 18]]\n"
     ]
    }
   ],
   "source": [
    "print(confusion_matrix(y_test,y_pred))"
   ]
  },
  {
   "cell_type": "markdown",
   "id": "d3165950",
   "metadata": {
    "papermill": {
     "duration": 0.078574,
     "end_time": "2021-11-03T10:37:12.067463",
     "exception": false,
     "start_time": "2021-11-03T10:37:11.988889",
     "status": "completed"
    },
    "tags": []
   },
   "source": [
    "#### **Classification Report**"
   ]
  },
  {
   "cell_type": "code",
   "execution_count": 38,
   "id": "1eb432ec",
   "metadata": {
    "execution": {
     "iopub.execute_input": "2021-11-03T10:37:12.229720Z",
     "iopub.status.busy": "2021-11-03T10:37:12.224756Z",
     "iopub.status.idle": "2021-11-03T10:37:12.237625Z",
     "shell.execute_reply": "2021-11-03T10:37:12.238102Z",
     "shell.execute_reply.started": "2021-11-03T10:36:14.810297Z"
    },
    "papermill": {
     "duration": 0.092973,
     "end_time": "2021-11-03T10:37:12.238318",
     "exception": false,
     "start_time": "2021-11-03T10:37:12.145345",
     "status": "completed"
    },
    "tags": []
   },
   "outputs": [
    {
     "name": "stdout",
     "output_type": "stream",
     "text": [
      "                 precision    recall  f1-score   support\n",
      "\n",
      "    Iris-setosa       1.00      1.00      1.00        18\n",
      "Iris-versicolor       0.90      0.90      0.90        21\n",
      " Iris-virginica       0.90      0.90      0.90        20\n",
      "\n",
      "       accuracy                           0.93        59\n",
      "      macro avg       0.93      0.93      0.93        59\n",
      "   weighted avg       0.93      0.93      0.93        59\n",
      "\n"
     ]
    }
   ],
   "source": [
    "print(classification_report(y_test,y_pred))"
   ]
  },
  {
   "cell_type": "markdown",
   "id": "0623033b",
   "metadata": {
    "papermill": {
     "duration": 0.076568,
     "end_time": "2021-11-03T10:37:12.396148",
     "exception": false,
     "start_time": "2021-11-03T10:37:12.319580",
     "status": "completed"
    },
    "tags": []
   },
   "source": [
    "## **Logistic Regression**"
   ]
  },
  {
   "cell_type": "code",
   "execution_count": 39,
   "id": "ccf6142a",
   "metadata": {
    "execution": {
     "iopub.execute_input": "2021-11-03T10:37:12.554433Z",
     "iopub.status.busy": "2021-11-03T10:37:12.553711Z",
     "iopub.status.idle": "2021-11-03T10:37:12.558058Z",
     "shell.execute_reply": "2021-11-03T10:37:12.558627Z",
     "shell.execute_reply.started": "2021-11-03T10:36:14.825573Z"
    },
    "papermill": {
     "duration": 0.084058,
     "end_time": "2021-11-03T10:37:12.558841",
     "exception": false,
     "start_time": "2021-11-03T10:37:12.474783",
     "status": "completed"
    },
    "tags": []
   },
   "outputs": [],
   "source": [
    "from sklearn.linear_model import LogisticRegression"
   ]
  },
  {
   "cell_type": "code",
   "execution_count": 40,
   "id": "10f9d7bb",
   "metadata": {
    "execution": {
     "iopub.execute_input": "2021-11-03T10:37:12.709746Z",
     "iopub.status.busy": "2021-11-03T10:37:12.708999Z",
     "iopub.status.idle": "2021-11-03T10:37:12.748870Z",
     "shell.execute_reply": "2021-11-03T10:37:12.749560Z",
     "shell.execute_reply.started": "2021-11-03T10:36:14.834054Z"
    },
    "papermill": {
     "duration": 0.116571,
     "end_time": "2021-11-03T10:37:12.749765",
     "exception": false,
     "start_time": "2021-11-03T10:37:12.633194",
     "status": "completed"
    },
    "tags": []
   },
   "outputs": [],
   "source": [
    "model_logreg = LogisticRegression(solver='lbfgs', multi_class='auto')\n",
    "model_logreg.fit(X_train, y_train)\n",
    "y_pred = model_logreg.predict(X_test)"
   ]
  },
  {
   "cell_type": "code",
   "execution_count": 41,
   "id": "fe2c76bf",
   "metadata": {
    "execution": {
     "iopub.execute_input": "2021-11-03T10:37:12.906695Z",
     "iopub.status.busy": "2021-11-03T10:37:12.905922Z",
     "iopub.status.idle": "2021-11-03T10:37:12.912306Z",
     "shell.execute_reply": "2021-11-03T10:37:12.912964Z",
     "shell.execute_reply.started": "2021-11-03T10:36:14.884923Z"
    },
    "papermill": {
     "duration": 0.087103,
     "end_time": "2021-11-03T10:37:12.913154",
     "exception": false,
     "start_time": "2021-11-03T10:37:12.826051",
     "status": "completed"
    },
    "tags": []
   },
   "outputs": [
    {
     "name": "stdout",
     "output_type": "stream",
     "text": [
      "0.9322033898305084\n"
     ]
    }
   ],
   "source": [
    "print(accuracy_score(y_test,y_pred))"
   ]
  },
  {
   "cell_type": "code",
   "execution_count": 42,
   "id": "cb18ac0b",
   "metadata": {
    "execution": {
     "iopub.execute_input": "2021-11-03T10:37:13.074959Z",
     "iopub.status.busy": "2021-11-03T10:37:13.074125Z",
     "iopub.status.idle": "2021-11-03T10:37:13.081705Z",
     "shell.execute_reply": "2021-11-03T10:37:13.082409Z",
     "shell.execute_reply.started": "2021-11-03T10:36:14.892725Z"
    },
    "papermill": {
     "duration": 0.091763,
     "end_time": "2021-11-03T10:37:13.082627",
     "exception": false,
     "start_time": "2021-11-03T10:37:12.990864",
     "status": "completed"
    },
    "tags": []
   },
   "outputs": [
    {
     "name": "stdout",
     "output_type": "stream",
     "text": [
      "[[18  0  0]\n",
      " [ 0 20  1]\n",
      " [ 0  3 17]]\n"
     ]
    }
   ],
   "source": [
    "print(confusion_matrix(y_test,y_pred))"
   ]
  },
  {
   "cell_type": "code",
   "execution_count": 43,
   "id": "7fcb26b5",
   "metadata": {
    "execution": {
     "iopub.execute_input": "2021-11-03T10:37:13.247025Z",
     "iopub.status.busy": "2021-11-03T10:37:13.242445Z",
     "iopub.status.idle": "2021-11-03T10:37:13.255687Z",
     "shell.execute_reply": "2021-11-03T10:37:13.256483Z",
     "shell.execute_reply.started": "2021-11-03T10:36:14.909429Z"
    },
    "papermill": {
     "duration": 0.097644,
     "end_time": "2021-11-03T10:37:13.256760",
     "exception": false,
     "start_time": "2021-11-03T10:37:13.159116",
     "status": "completed"
    },
    "tags": []
   },
   "outputs": [
    {
     "name": "stdout",
     "output_type": "stream",
     "text": [
      "                 precision    recall  f1-score   support\n",
      "\n",
      "    Iris-setosa       1.00      1.00      1.00        18\n",
      "Iris-versicolor       0.87      0.95      0.91        21\n",
      " Iris-virginica       0.94      0.85      0.89        20\n",
      "\n",
      "       accuracy                           0.93        59\n",
      "      macro avg       0.94      0.93      0.93        59\n",
      "   weighted avg       0.93      0.93      0.93        59\n",
      "\n"
     ]
    }
   ],
   "source": [
    "print(classification_report(y_test,y_pred))"
   ]
  },
  {
   "cell_type": "markdown",
   "id": "376b32c6",
   "metadata": {
    "papermill": {
     "duration": 0.077022,
     "end_time": "2021-11-03T10:37:13.417250",
     "exception": false,
     "start_time": "2021-11-03T10:37:13.340228",
     "status": "completed"
    },
    "tags": []
   },
   "source": [
    "## **Support Vector Classifier**"
   ]
  },
  {
   "cell_type": "code",
   "execution_count": 44,
   "id": "e66e842c",
   "metadata": {
    "execution": {
     "iopub.execute_input": "2021-11-03T10:37:13.576964Z",
     "iopub.status.busy": "2021-11-03T10:37:13.576183Z",
     "iopub.status.idle": "2021-11-03T10:37:13.580233Z",
     "shell.execute_reply": "2021-11-03T10:37:13.581030Z",
     "shell.execute_reply.started": "2021-11-03T10:36:14.923528Z"
    },
    "papermill": {
     "duration": 0.083932,
     "end_time": "2021-11-03T10:37:13.581253",
     "exception": false,
     "start_time": "2021-11-03T10:37:13.497321",
     "status": "completed"
    },
    "tags": []
   },
   "outputs": [],
   "source": [
    "from sklearn.svm import SVC"
   ]
  },
  {
   "cell_type": "code",
   "execution_count": 45,
   "id": "90250af3",
   "metadata": {
    "execution": {
     "iopub.execute_input": "2021-11-03T10:37:13.736370Z",
     "iopub.status.busy": "2021-11-03T10:37:13.735647Z",
     "iopub.status.idle": "2021-11-03T10:37:13.744415Z",
     "shell.execute_reply": "2021-11-03T10:37:13.744938Z",
     "shell.execute_reply.started": "2021-11-03T10:36:14.931960Z"
    },
    "papermill": {
     "duration": 0.087323,
     "end_time": "2021-11-03T10:37:13.745143",
     "exception": false,
     "start_time": "2021-11-03T10:37:13.657820",
     "status": "completed"
    },
    "tags": []
   },
   "outputs": [],
   "source": [
    "model_svc = SVC(gamma='scale')\n",
    "model_svc.fit(X_train,y_train)\n",
    "y_pred = model_svc.predict(X_test)"
   ]
  },
  {
   "cell_type": "markdown",
   "id": "626dc1da",
   "metadata": {
    "papermill": {
     "duration": 0.077731,
     "end_time": "2021-11-03T10:37:13.900967",
     "exception": false,
     "start_time": "2021-11-03T10:37:13.823236",
     "status": "completed"
    },
    "tags": []
   },
   "source": [
    "## **Decision Tree Classifier**"
   ]
  },
  {
   "cell_type": "code",
   "execution_count": 46,
   "id": "90c6f5d9",
   "metadata": {
    "execution": {
     "iopub.execute_input": "2021-11-03T10:37:14.063089Z",
     "iopub.status.busy": "2021-11-03T10:37:14.062211Z",
     "iopub.status.idle": "2021-11-03T10:37:14.102955Z",
     "shell.execute_reply": "2021-11-03T10:37:14.102169Z",
     "shell.execute_reply.started": "2021-11-03T10:36:14.949317Z"
    },
    "papermill": {
     "duration": 0.123132,
     "end_time": "2021-11-03T10:37:14.103133",
     "exception": false,
     "start_time": "2021-11-03T10:37:13.980001",
     "status": "completed"
    },
    "tags": []
   },
   "outputs": [],
   "source": [
    "from sklearn.tree import DecisionTreeClassifier"
   ]
  },
  {
   "cell_type": "code",
   "execution_count": 47,
   "id": "af1f4daf",
   "metadata": {
    "execution": {
     "iopub.execute_input": "2021-11-03T10:37:14.277547Z",
     "iopub.status.busy": "2021-11-03T10:37:14.276356Z",
     "iopub.status.idle": "2021-11-03T10:37:14.283230Z",
     "shell.execute_reply": "2021-11-03T10:37:14.282530Z",
     "shell.execute_reply.started": "2021-11-03T10:36:14.963165Z"
    },
    "papermill": {
     "duration": 0.098558,
     "end_time": "2021-11-03T10:37:14.283409",
     "exception": false,
     "start_time": "2021-11-03T10:37:14.184851",
     "status": "completed"
    },
    "tags": []
   },
   "outputs": [],
   "source": [
    "model_dt = DecisionTreeClassifier()\n",
    "model_dt.fit(X_train,y_train)\n",
    "y_pred = model_dt.predict(X_test)"
   ]
  },
  {
   "cell_type": "markdown",
   "id": "d4bdea22",
   "metadata": {
    "papermill": {
     "duration": 0.073154,
     "end_time": "2021-11-03T10:37:14.433741",
     "exception": false,
     "start_time": "2021-11-03T10:37:14.360587",
     "status": "completed"
    },
    "tags": []
   },
   "source": [
    "## **Random Forest Classifier**"
   ]
  },
  {
   "cell_type": "code",
   "execution_count": 48,
   "id": "1b21de01",
   "metadata": {
    "execution": {
     "iopub.execute_input": "2021-11-03T10:37:14.599451Z",
     "iopub.status.busy": "2021-11-03T10:37:14.598623Z",
     "iopub.status.idle": "2021-11-03T10:37:14.627953Z",
     "shell.execute_reply": "2021-11-03T10:37:14.628534Z",
     "shell.execute_reply.started": "2021-11-03T10:36:14.981299Z"
    },
    "papermill": {
     "duration": 0.116736,
     "end_time": "2021-11-03T10:37:14.628855",
     "exception": false,
     "start_time": "2021-11-03T10:37:14.512119",
     "status": "completed"
    },
    "tags": []
   },
   "outputs": [],
   "source": [
    "from sklearn.ensemble import RandomForestClassifier"
   ]
  },
  {
   "cell_type": "code",
   "execution_count": 49,
   "id": "ce87cad6",
   "metadata": {
    "execution": {
     "iopub.execute_input": "2021-11-03T10:37:14.785516Z",
     "iopub.status.busy": "2021-11-03T10:37:14.784821Z",
     "iopub.status.idle": "2021-11-03T10:37:14.997856Z",
     "shell.execute_reply": "2021-11-03T10:37:14.998423Z",
     "shell.execute_reply.started": "2021-11-03T10:36:14.993083Z"
    },
    "papermill": {
     "duration": 0.294943,
     "end_time": "2021-11-03T10:37:14.998625",
     "exception": false,
     "start_time": "2021-11-03T10:37:14.703682",
     "status": "completed"
    },
    "tags": []
   },
   "outputs": [],
   "source": [
    "model_rf = RandomForestClassifier(n_estimators=100)\n",
    "model_rf.fit(X_train,y_train)\n",
    "pred_rf = model_rf.predict(X_test)"
   ]
  },
  {
   "cell_type": "markdown",
   "id": "7a617b5b",
   "metadata": {
    "papermill": {
     "duration": 0.078313,
     "end_time": "2021-11-03T10:37:15.157982",
     "exception": false,
     "start_time": "2021-11-03T10:37:15.079669",
     "status": "completed"
    },
    "tags": []
   },
   "source": [
    "### **Accuracy Comparison for Various Models**"
   ]
  },
  {
   "cell_type": "code",
   "execution_count": 50,
   "id": "8e023189",
   "metadata": {
    "execution": {
     "iopub.execute_input": "2021-11-03T10:37:15.323777Z",
     "iopub.status.busy": "2021-11-03T10:37:15.315165Z",
     "iopub.status.idle": "2021-11-03T10:37:15.346331Z",
     "shell.execute_reply": "2021-11-03T10:37:15.346918Z",
     "shell.execute_reply.started": "2021-11-03T10:36:15.150188Z"
    },
    "papermill": {
     "duration": 0.110134,
     "end_time": "2021-11-03T10:37:15.347183",
     "exception": false,
     "start_time": "2021-11-03T10:37:15.237049",
     "status": "completed"
    },
    "tags": []
   },
   "outputs": [
    {
     "name": "stdout",
     "output_type": "stream",
     "text": [
      "[0.9491525423728814, 0.9491525423728814, 0.9491525423728814, 0.9491525423728814, 0.9491525423728814]\n"
     ]
    }
   ],
   "source": [
    "models = [model_knn, model_logreg, model_svc, model_dt, model_rf]\n",
    "accuracy_scores = []\n",
    "for model in models:\n",
    "    pred = model.predict(X_test)\n",
    "    accuracy = accuracy_score(y_test,y_pred)\n",
    "    accuracy_scores.append(accuracy)\n",
    "    \n",
    "print(accuracy_scores)"
   ]
  },
  {
   "cell_type": "code",
   "execution_count": 51,
   "id": "bcecc917",
   "metadata": {
    "execution": {
     "iopub.execute_input": "2021-11-03T10:37:15.510785Z",
     "iopub.status.busy": "2021-11-03T10:37:15.510005Z",
     "iopub.status.idle": "2021-11-03T10:37:15.758124Z",
     "shell.execute_reply": "2021-11-03T10:37:15.757562Z",
     "shell.execute_reply.started": "2021-11-03T10:36:15.180471Z"
    },
    "papermill": {
     "duration": 0.33203,
     "end_time": "2021-11-03T10:37:15.758307",
     "exception": false,
     "start_time": "2021-11-03T10:37:15.426277",
     "status": "completed"
    },
    "tags": []
   },
   "outputs": [
    {
     "data": {
      "image/png": "[encoded data removed]",
      "text/plain": [
       "<Figure size 432x288 with 1 Axes>"
      ]
     },
     "metadata": {
      "needs_background": "light"
     },
     "output_type": "display_data"
    }
   ],
   "source": [
    "plt.bar(['KNN', 'LR', 'SVC', 'DT', 'RF'], accuracy_scores)\n",
    "plt.ylim(0.9,1.01)\n",
    "plt.title('Accuracy comparison for various models', fontsize=15, color='r')\n",
    "plt.xlabel('Models', fontsize=10, color='g')\n",
    "plt.ylabel('Accuracy Score', fontsize=10, color='g')\n",
    "plt.tight_layout()\n",
    "plt.show()"
   ]
  }
 ],
 "metadata": {
  "kernelspec": {
   "display_name": "Python 3",
   "language": "python",
   "name": "python3"
  },
  "language_info": {
   "codemirror_mode": {
    "name": "ipython",
    "version": 3
   },
   "file_extension": ".py",
   "mimetype": "text/x-python",
   "name": "python",
   "nbconvert_exporter": "python",
   "pygments_lexer": "ipython3",
   "version": "3.7.10"
  },
  "papermill": {
   "default_parameters": {},
   "duration": 37.62781,
   "end_time": "2021-11-03T10:37:16.852233",
   "environment_variables": {},
   "exception": null,
   "input_path": "__notebook__.ipynb",
   "output_path": "__notebook__.ipynb",
   "parameters": {},
   "start_time": "2021-11-03T10:36:39.224423",
   "version": "2.3.3"
  }
 },
 "nbformat": 4,
 "nbformat_minor": 5
}
